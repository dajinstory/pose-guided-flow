{
 "cells": [
  {
   "cell_type": "markdown",
   "id": "8f2f4d04",
   "metadata": {},
   "source": [
    "# Library"
   ]
  },
  {
   "cell_type": "code",
   "execution_count": 1,
   "id": "7da1bbd7",
   "metadata": {},
   "outputs": [],
   "source": [
    "# import torchvision\n",
    "# torchvision.models.vgg16(pretrained=True).features[:4].eval(),      # 64,H,W \n"
   ]
  },
  {
   "cell_type": "code",
   "execution_count": 2,
   "id": "c176aaea",
   "metadata": {},
   "outputs": [
    {
     "name": "stdout",
     "output_type": "stream",
     "text": [
      "True\n"
     ]
    }
   ],
   "source": [
    "import os\n",
    "import torch\n",
    "import torch.nn.functional as F\n",
    "import torchvision.transforms as T\n",
    "from torchvision.transforms import InterpolationMode\n",
    "from torchvision.utils import make_grid\n",
    "from PIL import Image, ImageDraw\n",
    "from matplotlib import pyplot as plt\n",
    "\n",
    "from model.pgflow import PGFlowV3\n",
    "from model.landmark_detector.landmark_detector import FacialLandmarkDetector\n",
    "from model.pgflow.module import InsightFaceModule #get_header\n",
    "from util import computeGaussian, draw_edge\n",
    "\n",
    "print(torch.cuda.is_available())\n"
   ]
  },
  {
   "cell_type": "code",
   "execution_count": 3,
   "id": "940fbb55",
   "metadata": {},
   "outputs": [],
   "source": [
    "tt = T.ToTensor()\n",
    "ptt = T.PILToTensor()\n",
    "ttp = T.ToPILImage()"
   ]
  },
  {
   "cell_type": "markdown",
   "id": "564d5d4a",
   "metadata": {},
   "source": [
    "# Model"
   ]
  },
  {
   "cell_type": "code",
   "execution_count": 4,
   "id": "b5219466",
   "metadata": {},
   "outputs": [],
   "source": [
    "def load_landmark_detector():\n",
    "    ckpt_path = '/home/dajinhan/nas_dajinhan/models/landmark_detector/checkpoint/mobilefacenet_model_best.pth.tar'\n",
    "    pretrained = {'ckpt_path': ckpt_path}\n",
    "    net = FacialLandmarkDetector(pretrained).eval()\n",
    "    return net\n"
   ]
  },
  {
   "cell_type": "code",
   "execution_count": 5,
   "id": "91e23e3b",
   "metadata": {},
   "outputs": [],
   "source": [
    "landmark_detector = load_landmark_detector().cuda()"
   ]
  },
  {
   "cell_type": "markdown",
   "id": "45d0af8f",
   "metadata": {},
   "source": [
    "# Preprocess"
   ]
  },
  {
   "cell_type": "code",
   "execution_count": 6,
   "id": "6f4a7038",
   "metadata": {},
   "outputs": [],
   "source": [
    "def preprocess_ldmk(im, ldmk):\n",
    "    # Landmark Conditions\n",
    "    conditions = []\n",
    "    res = im.shape[2]\n",
    "    for _ in range(7):\n",
    "        # Computer per Image\n",
    "        heatmap = computeGaussian(ldmk, res=res, kernel_sigma=0.1, device='cuda')\n",
    "        edgemap = draw_edge(ldmk, img_size=res).cuda()\n",
    "        condition = torch.cat([heatmap, edgemap], dim=0)\n",
    "        condition = condition.unsqueeze(0)\n",
    "        conditions.append(condition)\n",
    "        res = res // 2\n",
    "    return conditions"
   ]
  },
  {
   "cell_type": "markdown",
   "id": "c7259b77",
   "metadata": {},
   "source": [
    "# Sample - LDMK"
   ]
  },
  {
   "cell_type": "code",
   "execution_count": 7,
   "id": "a4908876",
   "metadata": {},
   "outputs": [],
   "source": [
    "def sample_conditions(im_s, im_t):\n",
    "    with torch.no_grad():\n",
    "        # Get LDMK\n",
    "        im_s_resized = T.Resize(112, interpolation=InterpolationMode.BICUBIC, antialias=True)(im_s)\n",
    "        im_t_resized = T.Resize(112, interpolation=InterpolationMode.BICUBIC, antialias=True)(im_t)\n",
    "        ldmk_s, f5p_s = landmark_detector(im_s_resized) # input: (0,1)\n",
    "        ldmk_t, f5p_t = landmark_detector(im_t_resized) # input: (0,1)\n",
    "\n",
    "        # Preprocess\n",
    "        conditions_s = preprocess_ldmk(im_s, ldmk_s[0])\n",
    "        conditions_t = preprocess_ldmk(im_t, ldmk_t[0])\n",
    "\n",
    "    return conditions_s, conditions_t"
   ]
  },
  {
   "cell_type": "code",
   "execution_count": 8,
   "id": "1963d842",
   "metadata": {},
   "outputs": [],
   "source": [
    "im_s = tt(Image.open('/data/dajinhan/datasets/VoxCeleb/unzippedFaces_resized/64x64_png/Kathryn_Prescott/1.6/8QNLnekKaPU/0000400.png')).reshape(1,3,64,64).cuda()\n",
    "im_t = tt(Image.open('/data/dajinhan/datasets/VoxCeleb/unzippedFaces_resized/64x64_png/Kathryn_Prescott/1.6/8QNLnekKaPU/0010400.png')).reshape(1,3,64,64).cuda()\n",
    "\n",
    "c_s, c_t = sample_conditions(im_s, im_t)"
   ]
  },
  {
   "cell_type": "code",
   "execution_count": 9,
   "id": "3e565e19",
   "metadata": {},
   "outputs": [
    {
     "data": {
      "image/png": "[encoded data removed]",
      "text/plain": [
       "<PIL.Image.Image image mode=RGB size=64x64>"
      ]
     },
     "execution_count": 9,
     "metadata": {},
     "output_type": "execute_result"
    }
   ],
   "source": [
    "ttp(im_s[0])"
   ]
  },
  {
   "cell_type": "code",
   "execution_count": 10,
   "id": "9ae01f4f",
   "metadata": {},
   "outputs": [
    {
     "data": {
      "image/png": "[encoded data removed]",
      "text/plain": [
       "<PIL.Image.Image image mode=RGB size=64x64>"
      ]
     },
     "execution_count": 10,
     "metadata": {},
     "output_type": "execute_result"
    }
   ],
   "source": [
    "ttp(im_t[0])"
   ]
  },
  {
   "cell_type": "code",
   "execution_count": 11,
   "id": "688339f1",
   "metadata": {},
   "outputs": [
    {
     "data": {
      "image/png": "[encoded data removed]",
      "text/plain": [
       "<PIL.Image.Image image mode=L size=64x64>"
      ]
     },
     "execution_count": 11,
     "metadata": {},
     "output_type": "execute_result"
    }
   ],
   "source": [
    "ttp(c_s[0][0][-1:,:,:])"
   ]
  },
  {
   "cell_type": "code",
   "execution_count": 12,
   "id": "5c30c371",
   "metadata": {},
   "outputs": [
    {
     "data": {
      "image/png": "[encoded data removed]",
      "text/plain": [
       "<PIL.Image.Image image mode=L size=64x64>"
      ]
     },
     "execution_count": 12,
     "metadata": {},
     "output_type": "execute_result"
    }
   ],
   "source": [
    "ttp(c_t[0][0][-1:,:,:])"
   ]
  },
  {
   "cell_type": "code",
   "execution_count": 13,
   "id": "6ff5387d",
   "metadata": {},
   "outputs": [],
   "source": [
    "im_s = tt(Image.open('/data/dajinhan/datasets/VoxCeleb/unzippedFaces_resized/64x64_png/Kellan_Lutz/1.6/482zKSvHeRw/0003350.png')).reshape(1,3,64,64).cuda()\n",
    "im_t = tt(Image.open('/data/dajinhan/datasets/VoxCeleb/unzippedFaces_resized/64x64_png/Kellan_Lutz/1.6/482zKSvHeRw/0003400.png')).reshape(1,3,64,64).cuda()\n",
    "\n",
    "c_s, c_t = sample_conditions(im_s, im_t)"
   ]
  },
  {
   "cell_type": "code",
   "execution_count": 14,
   "id": "f2e1fa2d",
   "metadata": {},
   "outputs": [
    {
     "data": {
      "image/png": "[encoded data removed]",
      "text/plain": [
       "<PIL.Image.Image image mode=RGB size=64x64>"
      ]
     },
     "execution_count": 14,
     "metadata": {},
     "output_type": "execute_result"
    }
   ],
   "source": [
    "ttp(im_s[0])"
   ]
  },
  {
   "cell_type": "code",
   "execution_count": 15,
   "id": "1055a984",
   "metadata": {},
   "outputs": [
    {
     "data": {
      "image/png": "[encoded data removed]",
      "text/plain": [
       "<PIL.Image.Image image mode=RGB size=64x64>"
      ]
     },
     "execution_count": 15,
     "metadata": {},
     "output_type": "execute_result"
    }
   ],
   "source": [
    "ttp(im_t[0])"
   ]
  },
  {
   "cell_type": "code",
   "execution_count": 16,
   "id": "d2c48b4c",
   "metadata": {},
   "outputs": [
    {
     "data": {
      "image/png": "[encoded data removed]",
      "text/plain": [
       "<PIL.Image.Image image mode=L size=64x64>"
      ]
     },
     "execution_count": 16,
     "metadata": {},
     "output_type": "execute_result"
    }
   ],
   "source": [
    "ttp(c_s[0][0][-1:,:,:])"
   ]
  },
  {
   "cell_type": "code",
   "execution_count": 17,
   "id": "7c2397c1",
   "metadata": {},
   "outputs": [
    {
     "data": {
      "image/png": "[encoded data removed]",
      "text/plain": [
       "<PIL.Image.Image image mode=L size=64x64>"
      ]
     },
     "execution_count": 17,
     "metadata": {},
     "output_type": "execute_result"
    }
   ],
   "source": [
    "ttp(c_t[0][0][-1:,:,:])"
   ]
  }
 ],
 "metadata": {
  "kernelspec": {
   "display_name": "Python [conda env:1.11] *",
   "language": "python",
   "name": "conda-env-1.11-py"
  },
  "language_info": {
   "codemirror_mode": {
    "name": "ipython",
    "version": 3
   },
   "file_extension": ".py",
   "mimetype": "text/x-python",
   "name": "python",
   "nbconvert_exporter": "python",
   "pygments_lexer": "ipython3",
   "version": "3.9.12"
  }
 },
 "nbformat": 4,
 "nbformat_minor": 5
}
